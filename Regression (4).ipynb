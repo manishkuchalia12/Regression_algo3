{
 "cells": [
  {
   "cell_type": "markdown",
   "id": "5802c498-cf1f-40a2-8106-0f7a55d8968b",
   "metadata": {},
   "source": [
    "Q1. What is Elastic Net Regression and how does it differ from other regression techniques?"
   ]
  },
  {
   "cell_type": "code",
   "execution_count": null,
   "id": "327ad062-cfd7-4844-bd45-e2a6eeaeb035",
   "metadata": {},
   "outputs": [],
   "source": [
    "from sklearn.linear_model import ElasticNet\n",
    "from sklearn.datasets import make_regression\n",
    "from sklearn.model_selection import train_test_split\n",
    "from sklearn.preprocessing import StandardScaler\n",
    "from sklearn.metrics import mean_squared_error\n",
    "\n",
    "# Generate synthetic data\n",
    "X, y = make_regression(n_samples=100, n_features=2, noise=10, random_state=42)\n",
    "\n",
    "# Split the data into training and testing sets\n",
    "X_train, X_test, y_train, y_test = train_test_split(X, y, test_size=0.2, random_state=42)\n",
    "\n",
    "# Standardize the features\n",
    "scaler = StandardScaler()\n",
    "X_train_scaled = scaler.fit_transform(X_train)\n",
    "X_test_scaled = scaler.transform(X_test)\n",
    "\n",
    "# Create and fit an Elastic Net Regression model\n",
    "alpha = 0.5  # Mixing parameter (0: Ridge, 1: Lasso)\n",
    "l1_ratio = 0.5  # Ratio of L1 regularization in the elastic net (0: Ridge, 1: Lasso)\n",
    "elastic_net_model = ElasticNet(alpha=alpha, l1_ratio=l1_ratio)\n",
    "elastic_net_model.fit(X_train_scaled, y_train)\n",
    "\n",
    "# Make predictions on the test set\n",
    "y_pred = elastic_net_model.predict(X_test_scaled)\n",
    "\n",
    "# Evaluate the model\n",
    "mse = mean_squared_error(y_test, y_pred)\n",
    "print(\"Mean Squared Error:\", mse)\n"
   ]
  },
  {
   "cell_type": "markdown",
   "id": "28cb47e1-443e-41b0-93d4-4357d10e7a6b",
   "metadata": {},
   "source": [
    "Q2. How do you choose the optimal values of the regularization parameters for Elastic Net Regression?"
   ]
  },
  {
   "cell_type": "code",
   "execution_count": null,
   "id": "15fe0b10-fd75-48ec-9d6c-e1efefa3fcd4",
   "metadata": {},
   "outputs": [],
   "source": [
    "from sklearn.linear_model import ElasticNetCV\n",
    "from sklearn.datasets import make_regression\n",
    "from sklearn.model_selection import train_test_split\n",
    "from sklearn.preprocessing import StandardScaler\n",
    "from sklearn.metrics import mean_squared_error\n",
    "\n",
    "# Generate synthetic data\n",
    "X, y = make_regression(n_samples=100, n_features=2, noise=10, random_state=42)\n",
    "\n",
    "# Split the data into training and testing sets\n",
    "X_train, X_test, y_train, y_test = train_test_split(X, y, test_size=0.2, random_state=42)\n",
    "\n",
    "# Standardize the features\n",
    "scaler = StandardScaler()\n",
    "X_train_scaled = scaler.fit_transform(X_train)\n",
    "X_test_scaled = scaler.transform(X_test)\n",
    "\n",
    "# Create and fit an Elastic Net Regression model with cross-validated hyperparameters\n",
    "elastic_net_cv_model = ElasticNetCV(\n",
    "    alphas=[0.001, 0.01, 0.1, 0.5, 1.0, 5.0, 10.0],  # Possible alpha values\n",
    "    l1_ratio=[0.1, 0.3, 0.5, 0.7, 0.9],  # Possible l1_ratio values\n",
    "    cv=5  # Number of cross-validation folds\n",
    ")\n",
    "\n",
    "elastic_net_cv_model.fit(X_train_scaled, y_train)\n",
    "\n",
    "# Optimal alpha and l1_ratio chosen by cross-validation\n",
    "optimal_alpha = elastic_net_cv_model.alpha_\n",
    "optimal_l1_ratio = elastic_net_cv_model.l1_ratio_\n",
    "\n",
    "# Make predictions on the test set\n",
    "y_pred = elastic_net_cv_model.predict(X_test_scaled)\n",
    "\n",
    "# Evaluate the model\n",
    "mse = mean_squared_error(y_test, y_pred)\n",
    "print(\"Mean Squared Error:\", mse)\n",
    "print(\"Optimal Alpha:\", optimal_alpha)\n",
    "print(\"Optimal L1 Ratio:\", optimal_l1_ratio)\n"
   ]
  },
  {
   "cell_type": "markdown",
   "id": "2840187e-a0fc-45ba-8245-49f7cf6b83bd",
   "metadata": {},
   "source": [
    "Q3. What are the advantages and disadvantages of Elastic Net Regression?\n",
    "Ans:-Advantages of Elastic Net Regression:\r\n",
    "Balances L1 and L2 Regularization:\r\n",
    "\r\n",
    "Elastic Net combines the advantages of Lasso (L1 regularization) and Ridge (L2 regularization) by allowing a mixture of both penalties. This makes it more flexible in handling different types of datasets.\r\n",
    "Feature Selection:\r\n",
    "\r\n",
    "Similar to Lasso Regression, Elastic Net can perform feature selection by driving some coefficients exactly to zero. This is particularly useful when dealing with datasets with a large number of features.\r\n",
    "Handles Multicollinearity:\r\n",
    "\r\n",
    "Elastic Net is effective in handling multicollinearity among predictor variables, similar to Ridge Regression. It can distribute the effect among correlated features and provide stable coefficient e\n",
    "Disadvantages of Elastic Net Regression:\r\n",
    "Increased Complexity:\r\n",
    "\r\n",
    "The introduction of the mixing paramete\r\n",
    "�\r\n",
    "α) adds an additional hyperparameter to tune, which increases the complexity of model selection. Selecting optimal values for bh \r\n",
    "�\r",
    "and \r\n",
    "�\r\n",
    "λ requires careful consideration.\r\n",
    "Interpretability Callenges:\r\n",
    "\r\n",
    "As with Lasso Regression, the sparsity-inducing nature of Elastic Net can make the model less interpretable when many features have coefficients set to zero. Interpreting the importance of individual features becomes more challenging.stimates."
   ]
  },
  {
   "cell_type": "markdown",
   "id": "90f4339f-11fa-4abb-abc5-2d362f7c8c8f",
   "metadata": {},
   "source": [
    "Q4. What are some common use cases for Elastic Net Regression?\n",
    "Ans:-Elastic Net Regression is a versatile linear regression technique that finds applications in various domains. Some common use cases for Elastic Net Regression include:\r\n",
    "\r\n",
    "High-Dimensional Data:\r\n",
    "\r\n",
    "When dealing with datasets that have a large number of features (high-dimensional data), Elastic Net is effective in handling the potential multicollinearity among variables and performing feature selection.\r\n",
    "Genomics and Bioinformatics:\r\n",
    "\r\n",
    "In genomics and bioinformatics, where datasets often involve a large number of genes or molecular features, Elastic Net can be used for identifying relevant biomarkers and reducing the impact of irrelevant or correlated features.\r\n",
    "Finance and Economics:\r\n",
    "\r\n",
    "In financial modeling, Elastic Net can be applied to predict stock prices or financial returns when dealing with datasets that include numerous financial indicators, economic variables, or market indicators. It helps in selecting relevant features and improving model stability.\r\n",
    "Marketing and Customer Relationship Management (CRM):\r\n",
    "\r\n",
    "In marketing analytics and CRM, Elastic Net can be utilized for predicting customer behavior, such as purchasing patterns or churn. It aids in selecting the most relevant customer features and handling potential multicollinearity."
   ]
  },
  {
   "cell_type": "markdown",
   "id": "53fccdaf-d2f0-4058-8bb4-3cd87b422481",
   "metadata": {},
   "source": [
    "Q5. How do you interpret the coefficients in Elastic Net Regression?\n",
    "Ans:-Interpreting coefficients in Elastic Net Regression involves understanding the impact of each predictor variable on the target variable, considering the combined effects of both L1 (Lasso) and L2 (Ridge) regularization. The coefficients are influenced by the mixing parameter (\r\n",
    "α), which determines the trade-off between L1 and L2 regularization. Here are key points to consider when interpreting coefficients in Elastic Net Regression:\r\n",
    "\r\n",
    "Coefficients Shrinkage:\r\n",
    "\r\n",
    "Elastic Net combines both L1 and L2 regularization, resulting in shrinkage of coefficients. This means that the estimated coefficients are pushed towards zero to prevent overfitting. The amount of shrinkage depends on the strength of regularization, controlled by the regularization paramr (\r\n",
    "�\r\n",
    "λ).\r\n",
    "Feature Selection:\r\n",
    "\r\n",
    "Elastic Net, especlly when \r\n",
    "�\r\n",
    "α is closer to 1, has the ability to perform feature selection by driving some coefficients exactly to zero. Coefficients associated with features that are set to zero can be considered as not contributing to the model, effectively excluding them from the prediction."
   ]
  },
  {
   "cell_type": "markdown",
   "id": "5ad2e465-48e4-4c53-a78b-42137aadb4e6",
   "metadata": {},
   "source": [
    "Q6. How do you handle missing values when using Elastic Net Regression?"
   ]
  },
  {
   "cell_type": "code",
   "execution_count": null,
   "id": "e2cdfd3b-c412-4c23-91e8-1ece25dff4e2",
   "metadata": {},
   "outputs": [],
   "source": [
    "from sklearn.impute import SimpleImputer\n",
    "\n",
    "# Create an imputer (replace 'mean' with 'median' or 'most_frequent' as needed)\n",
    "imputer = SimpleImputer(strategy='mean')\n",
    "\n",
    "# Fit and transform the training data\n",
    "X_train_imputed = imputer.fit_transform(X_train)\n",
    "\n",
    "# Transform the test data using the same imputer\n",
    "X_test_imputed = imputer.transform(X_test)\n"
   ]
  },
  {
   "cell_type": "markdown",
   "id": "5baa1a4a-8c40-4f6e-9d0a-6fd42e4a094c",
   "metadata": {},
   "source": [
    "Q7. How do you use Elastic Net Regression for feature selection?"
   ]
  },
  {
   "cell_type": "code",
   "execution_count": null,
   "id": "bb4eaf9d-ec03-475b-bf1c-2491cb5eb298",
   "metadata": {},
   "outputs": [],
   "source": [
    "from sklearn.linear_model import ElasticNetCV\n",
    "from sklearn.datasets import make_regression\n",
    "from sklearn.model_selection import train_test_split\n",
    "from sklearn.preprocessing import StandardScaler\n",
    "\n",
    "# Generate synthetic data\n",
    "X, y = make_regression(n_samples=100, n_features=5, noise=10, random_state=42)\n",
    "\n",
    "# Split the data into training and testing sets\n",
    "X_train, X_test, y_train, y_test = train_test_split(X, y, test_size=0.2, random_state=42)\n",
    "\n",
    "# Standardize the features\n",
    "scaler = StandardScaler()\n",
    "X_train_scaled = scaler.fit_transform(X_train)\n",
    "X_test_scaled = scaler.transform(X_test)\n",
    "\n",
    "# Create an Elastic Net Regression model with cross-validated hyperparameters\n",
    "elastic_net_cv_model = ElasticNetCV(\n",
    "    alphas=[0.001, 0.01, 0.1, 0.5, 1.0, 5.0, 10.0],  # Possible alpha values\n",
    "    l1_ratio=[0.1, 0.3, 0.5, 0.7, 0.9],  # Possible l1_ratio values\n",
    "    cv=5  # Number of cross-validation folds\n",
    ")\n",
    "\n",
    "# Fit the model on the training data\n",
    "elastic_net_cv_model.fit(X_train_scaled, y_train)\n",
    "\n",
    "# Get the selected features (features with non-zero coefficients)\n",
    "selected_features = X_train.columns[elastic_net_cv_model.coef_ != 0]\n",
    "print(\"Selected Features:\", selected_features)\n"
   ]
  },
  {
   "cell_type": "markdown",
   "id": "0d770a19-4cb4-48c7-ad2a-4f5b514d5997",
   "metadata": {},
   "source": [
    "Q8. How do you pickle and unpickle a trained Elastic Net Regression model in Python?"
   ]
  },
  {
   "cell_type": "code",
   "execution_count": null,
   "id": "e84e2421-ecc1-4a9d-b8ae-50c10d8b79c4",
   "metadata": {},
   "outputs": [],
   "source": [
    "import pickle\n",
    "from sklearn.linear_model import ElasticNet\n",
    "from sklearn.datasets import make_regression\n",
    "from sklearn.model_selection import train_test_split\n",
    "from sklearn.preprocessing import StandardScaler\n",
    "\n",
    "# Generate synthetic data\n",
    "X, y = make_regression(n_samples=100, n_features=5, noise=10, random_state=42)\n",
    "\n",
    "# Split the data into training and testing sets\n",
    "X_train, X_test, y_train, y_test = train_test_split(X, y, test_size=0.2, random_state=42)\n",
    "\n",
    "# Standardize the features\n",
    "scaler = StandardScaler()\n",
    "X_train_scaled = scaler.fit_transform(X_train)\n",
    "X_test_scaled = scaler.transform(X_test)\n",
    "\n",
    "# Create and fit an Elastic Net Regression model\n",
    "elastic_net_model = ElasticNet(alpha=0.5, l1_ratio=0.5)\n",
    "elastic_net_model.fit(X_train_scaled, y_train)\n",
    "\n",
    "# Pickle the trained model\n",
    "with open('elastic_net_model.pkl', 'wb') as file:\n",
    "    pickle.dump(elastic_net_model, file)\n"
   ]
  }
 ],
 "metadata": {
  "kernelspec": {
   "display_name": "Python 3 (ipykernel)",
   "language": "python",
   "name": "python3"
  },
  "language_info": {
   "codemirror_mode": {
    "name": "ipython",
    "version": 3
   },
   "file_extension": ".py",
   "mimetype": "text/x-python",
   "name": "python",
   "nbconvert_exporter": "python",
   "pygments_lexer": "ipython3",
   "version": "3.12.0"
  }
 },
 "nbformat": 4,
 "nbformat_minor": 5
}
